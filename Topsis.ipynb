{
 "cells": [
  {
   "cell_type": "code",
   "execution_count": 8,
   "id": "c48f79ec",
   "metadata": {},
   "outputs": [],
   "source": [
    "import pandas as pd\n",
    "import numpy as np"
   ]
  },
  {
   "cell_type": "code",
   "execution_count": 9,
   "id": "cc0fb84e",
   "metadata": {},
   "outputs": [],
   "source": [
    "data = pd.read_csv(\"data.csv\")"
   ]
  },
  {
   "cell_type": "code",
   "execution_count": 10,
   "id": "d48e7ba5",
   "metadata": {},
   "outputs": [],
   "source": [
    "max_seq_length = data[\"Max_Seq_Length\"].values\n",
    "batch_size = data[\"Batch_Size\"].values\n",
    "accuracy = data[\"Accuracy\"].values\n",
    "f1_score = data[\"F1_Score\"].values"
   ]
  },
  {
   "cell_type": "code",
   "execution_count": 11,
   "id": "add69fc9",
   "metadata": {},
   "outputs": [],
   "source": [
    "weights = np.array([0.5, 0.4, 0.3, 0.2])"
   ]
  },
  {
   "cell_type": "code",
   "execution_count": 12,
   "id": "b27a5d79",
   "metadata": {},
   "outputs": [],
   "source": [
    "normalized_matrix = np.column_stack(\n",
    "    [\n",
    "        max_seq_length / np.max(max_seq_length),\n",
    "        batch_size / np.max(batch_size),\n",
    "        accuracy / np.max(accuracy),\n",
    "        f1_score / np.max(f1_score),\n",
    "    ]\n",
    ")"
   ]
  },
  {
   "cell_type": "code",
   "execution_count": 13,
   "id": "0bc1d023",
   "metadata": {},
   "outputs": [],
   "source": [
    "weighted_normalized_matrix = normalized_matrix * weights\n",
    "\n",
    "ideal_solution = np.max(weighted_normalized_matrix, axis=0)\n",
    "negative_ideal_solution = np.min(weighted_normalized_matrix, axis=0)\n",
    "\n",
    "distance_to_ideal = np.sqrt(\n",
    "    np.sum((weighted_normalized_matrix - ideal_solution) ** 2, axis=1))\n",
    "\n",
    "distance_to_negative_ideal = np.sqrt(\n",
    "    np.sum((weighted_normalized_matrix - negative_ideal_solution) ** 2, axis=1))\n",
    "\n",
    "topsis_scores = distance_to_negative_ideal / (\n",
    "    distance_to_ideal + distance_to_negative_ideal)"
   ]
  },
  {
   "cell_type": "code",
   "execution_count": 14,
   "id": "10ead432",
   "metadata": {},
   "outputs": [
    {
     "name": "stdout",
     "output_type": "stream",
     "text": [
      "Model Ranking:\n",
      "                     Model  TOPSIS_Score  Rank\n",
      "1             roberta-base      1.000000   1.0\n",
      "3         xlnet-base-cased      0.992174   2.0\n",
      "0        bert-base-uncased      0.967518   3.0\n",
      "5           albert-base-v2      0.942266   4.0\n",
      "2  distilbert-base-uncased      0.928425   5.0\n",
      "4                 t5-small      0.026897   6.0\n"
     ]
    }
   ],
   "source": [
    "data[\"TOPSIS_Score\"] = topsis_scores\n",
    "data[\"Rank\"] = data[\"TOPSIS_Score\"].rank(ascending=False)\n",
    "\n",
    "print(\"Model Ranking:\")\n",
    "print(data[[\"Model\", \"TOPSIS_Score\", \"Rank\"]].sort_values(by=\"Rank\"))\n",
    "\n",
    "data.to_csv(\"result.csv\", index=False)"
   ]
  },
  {
   "cell_type": "code",
   "execution_count": null,
   "id": "d2ef28b8",
   "metadata": {},
   "outputs": [],
   "source": []
  }
 ],
 "metadata": {
  "kernelspec": {
   "display_name": "Python 3 (ipykernel)",
   "language": "python",
   "name": "python3"
  },
  "language_info": {
   "codemirror_mode": {
    "name": "ipython",
    "version": 3
   },
   "file_extension": ".py",
   "mimetype": "text/x-python",
   "name": "python",
   "nbconvert_exporter": "python",
   "pygments_lexer": "ipython3",
   "version": "3.10.12"
  }
 },
 "nbformat": 4,
 "nbformat_minor": 5
}
